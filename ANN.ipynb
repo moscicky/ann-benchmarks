{
  "nbformat": 4,
  "nbformat_minor": 0,
  "metadata": {
    "colab": {
      "name": "ANN.ipynb",
      "provenance": [],
      "collapsed_sections": [],
      "authorship_tag": "ABX9TyMzabLcobGwEQihSSjyGFJv",
      "include_colab_link": true
    },
    "kernelspec": {
      "name": "python3",
      "display_name": "Python 3"
    },
    "language_info": {
      "name": "python"
    }
  },
  "cells": [
    {
      "cell_type": "markdown",
      "metadata": {
        "id": "view-in-github",
        "colab_type": "text"
      },
      "source": [
        "<a href=\"https://colab.research.google.com/github/moscicky/ann-benchmarks/blob/master/ANN.ipynb\" target=\"_parent\"><img src=\"https://colab.research.google.com/assets/colab-badge.svg\" alt=\"Open In Colab\"/></a>"
      ]
    },
    {
      "cell_type": "code",
      "metadata": {
        "id": "mFPKm6cI4jPn"
      },
      "source": [
        "import numpy as np\n",
        "import matplotlib.pyplot as plt"
      ],
      "execution_count": null,
      "outputs": []
    },
    {
      "cell_type": "code",
      "metadata": {
        "id": "5772_uIF48XI"
      },
      "source": [
        "vectors = np.random.rand(50, 2)"
      ],
      "execution_count": null,
      "outputs": []
    },
    {
      "cell_type": "code",
      "metadata": {
        "id": "fPyVn6Ei8dHm"
      },
      "source": [
        "def xy(arr):\n",
        "  return arr[:, 0], arr[:, 1]"
      ],
      "execution_count": null,
      "outputs": []
    },
    {
      "cell_type": "code",
      "metadata": {
        "id": "NFY-0om25ooh"
      },
      "source": [
        "x, y = xy(vectors)"
      ],
      "execution_count": null,
      "outputs": []
    },
    {
      "cell_type": "code",
      "metadata": {
        "colab": {
          "base_uri": "https://localhost:8080/",
          "height": 282
        },
        "id": "3hKoV_RFI0H5",
        "outputId": "72c9ef1a-f9a7-49e7-85c8-606d2e95dc9c"
      },
      "source": [
        "plt.scatter(x, y, alpha=0.8, c='g')"
      ],
      "execution_count": null,
      "outputs": [
        {
          "output_type": "execute_result",
          "data": {
            "text/plain": [
              "<matplotlib.collections.PathCollection at 0x7f1115a9df50>"
            ]
          },
          "metadata": {},
          "execution_count": 240
        },
        {
          "output_type": "display_data",
          "data": {
            "image/png": "[encoded data removed]",
            "text/plain": [
              "<Figure size 432x288 with 1 Axes>"
            ]
          },
          "metadata": {
            "needs_background": "light"
          }
        }
      ]
    },
    {
      "cell_type": "code",
      "metadata": {
        "id": "lFUUQnbCJvxz"
      },
      "source": [
        "query = np.random.rand(1, 2)\n",
        "query_x, query_y = xy(query)"
      ],
      "execution_count": null,
      "outputs": []
    },
    {
      "cell_type": "code",
      "metadata": {
        "colab": {
          "base_uri": "https://localhost:8080/",
          "height": 282
        },
        "id": "jv_CjsoNJ_jb",
        "outputId": "a42e1cec-40c7-4f0b-bd62-0e15f62c408e"
      },
      "source": [
        "plt.scatter(x, y, alpha=0.8, c='g')\n",
        "plt.scatter(query_x, query_y, color='r', s=80)"
      ],
      "execution_count": null,
      "outputs": [
        {
          "output_type": "execute_result",
          "data": {
            "text/plain": [
              "<matplotlib.collections.PathCollection at 0x7f11159f1f90>"
            ]
          },
          "metadata": {},
          "execution_count": 242
        },
        {
          "output_type": "display_data",
          "data": {
            "image/png": "[encoded data removed]",
            "text/plain": [
              "<Figure size 432x288 with 1 Axes>"
            ]
          },
          "metadata": {
            "needs_background": "light"
          }
        }
      ]
    },
    {
      "cell_type": "code",
      "metadata": {
        "id": "G4NPr8MTJBwW"
      },
      "source": [
        "from sklearn.cluster import KMeans\n",
        "def create_coarse_quantizer(space, n_clusters, random_state=0):\n",
        "  return KMeans(n_clusters=n_clusters, random_state=0).fit(vectors)"
      ],
      "execution_count": null,
      "outputs": []
    },
    {
      "cell_type": "code",
      "metadata": {
        "id": "0FEbWKyfJZB6"
      },
      "source": [
        "coarse_quantizer = create_coarse_quantizer(vectors, n_clusters=5)\n",
        "coarse_quantizer_centroids = np.array(coarse_quantizer.cluster_centers_)"
      ],
      "execution_count": null,
      "outputs": []
    },
    {
      "cell_type": "code",
      "metadata": {
        "colab": {
          "base_uri": "https://localhost:8080/",
          "height": 282
        },
        "id": "lk1DlH1K5auA",
        "outputId": "6e566013-9ed8-47ec-9617-6d2b9aa6e3e3"
      },
      "source": [
        "from scipy.spatial import Voronoi, voronoi_plot_2d\n",
        "vor = Voronoi(coarse_quantizer_centroids)\n",
        "fig = voronoi_plot_2d(vor)\n",
        "plt.scatter(query_x, query_y, color='r', s=80)\n",
        "plt.scatter(x, y, alpha=0.8, c='g')"
      ],
      "execution_count": null,
      "outputs": [
        {
          "output_type": "execute_result",
          "data": {
            "text/plain": [
              "<matplotlib.collections.PathCollection at 0x7f111596ae90>"
            ]
          },
          "metadata": {},
          "execution_count": 245
        },
        {
          "output_type": "display_data",
          "data": {
            "image/png": "[encoded data removed]",
            "text/plain": [
              "<Figure size 432x288 with 1 Axes>"
            ]
          },
          "metadata": {
            "needs_background": "light"
          }
        }
      ]
    },
    {
      "cell_type": "code",
      "metadata": {
        "id": "2sZ3OAT5JAxW"
      },
      "source": [
        "def train(vec, M, clusters):\n",
        "  Dm = int(vec.shape[1] / M)\n",
        "  codebook = np.empty((M, clusters, Dm), np.float32)\n",
        "  for m in range(M):\n",
        "    vec_sub = vec[:, m * Dm : (m+1) * Dm]\n",
        "    kmeans_t = KMeans(n_clusters=clusters, random_state=0).fit(vec_sub)\n",
        "    codebook[m] = np.array(kmeans_t.cluster_centers_)\n",
        "  \n",
        "  return codebook"
      ],
      "execution_count": null,
      "outputs": []
    },
    {
      "cell_type": "code",
      "metadata": {
        "id": "VAy2x48sNuuP"
      },
      "source": [
        "codebook = train(vectors, M=2, clusters=5)"
      ],
      "execution_count": null,
      "outputs": []
    },
    {
      "cell_type": "code",
      "metadata": {
        "id": "cmY4ZGsUN0HG"
      },
      "source": [
        "codebook_vectors = []\n",
        "for i in range(codebook.shape[1]):\n",
        "  for j in range(codebook.shape[1]):\n",
        "    codebook_vectors.append([codebook[0][i][0], codebook[1][j][0]])\n",
        "codebook_centroids_x, codebook_centroids_y = xy(np.array(codebook_vectors))"
      ],
      "execution_count": null,
      "outputs": []
    },
    {
      "cell_type": "code",
      "metadata": {
        "colab": {
          "base_uri": "https://localhost:8080/",
          "height": 282
        },
        "id": "FNNIcoz4PFrW",
        "outputId": "9d52d660-439a-495e-f4dd-32fe8bb3f8e0"
      },
      "source": [
        "from scipy.spatial import Voronoi, voronoi_plot_2d\n",
        "vor = Voronoi(codebook_vectors)\n",
        "fig = voronoi_plot_2d(vor)\n",
        "plt.scatter(query_x, query_y, color='r', s=80)\n",
        "plt.scatter(x, y, alpha=0.8, c='g')\n"
      ],
      "execution_count": null,
      "outputs": [
        {
          "output_type": "execute_result",
          "data": {
            "text/plain": [
              "<matplotlib.collections.PathCollection at 0x7f11158e4850>"
            ]
          },
          "metadata": {},
          "execution_count": 249
        },
        {
          "output_type": "display_data",
          "data": {
            "image/png": "[encoded data removed]",
            "text/plain": [
              "<Figure size 432x288 with 1 Axes>"
            ]
          },
          "metadata": {
            "needs_background": "light"
          }
        }
      ]
    },
    {
      "cell_type": "code",
      "metadata": {
        "id": "JS8ixCEkLfG4"
      },
      "source": [
        "from scipy.cluster.vq import vq\n",
        "def encode(codebook, vec):\n",
        "  M, _K, Dm = codebook.shape\n",
        "  pqcode = np.empty((vec.shape[0], M), np.uint8)\n",
        "\n",
        "  for m in range(M):\n",
        "    vec_sub = vec[:, m * Dm : (m+1) * Dm]\n",
        "    pqcode[:, m], dist = vq(vec_sub, codebook[m])\n",
        "  return pqcode"
      ],
      "execution_count": null,
      "outputs": []
    },
    {
      "cell_type": "code",
      "metadata": {
        "colab": {
          "base_uri": "https://localhost:8080/",
          "height": 282
        },
        "id": "UlEcmRG1Nsc9",
        "outputId": "44f9880d-6daa-49d3-c4e0-992da171740f"
      },
      "source": [
        "from scipy.spatial import Voronoi, voronoi_plot_2d\n",
        "vor = Voronoi(coarse_quantizer_centroids)\n",
        "fig = voronoi_plot_2d(vor)\n",
        "plt.scatter(query_x, query_y, color='r', s=80)\n",
        "plt.scatter(x, y, alpha=0.8, c='g')"
      ],
      "execution_count": null,
      "outputs": [
        {
          "output_type": "execute_result",
          "data": {
            "text/plain": [
              "<matplotlib.collections.PathCollection at 0x7f1115a5bc90>"
            ]
          },
          "metadata": {},
          "execution_count": 255
        },
        {
          "output_type": "display_data",
          "data": {
            "image/png": "[encoded data removed]",
            "text/plain": [
              "<Figure size 432x288 with 1 Axes>"
            ]
          },
          "metadata": {
            "needs_background": "light"
          }
        }
      ]
    },
    {
      "cell_type": "code",
      "metadata": {
        "id": "KdSuj3Tk99Iw"
      },
      "source": [
        "from scipy.spatial.distance import cdist\n",
        "def search(codeword, pqcode, query, clusters):\n",
        "  M, _K, Dm = codeword.shape\n",
        "  dist_table = np.empty((M, clusters), np.float32)\n",
        "\n",
        "  for m in range(M):\n",
        "    query_sub = query[:, m * Dm : (m+1) * Dm]\n",
        "    dist_table[m, :] = cdist(query_sub, codeword[m], 'sqeuclidean')[0]\n",
        "  return np.sum(dist_table[range(M), pqcode], axis=1)"
      ],
      "execution_count": null,
      "outputs": []
    },
    {
      "cell_type": "code",
      "metadata": {
        "id": "hq1QwHHoD0IS"
      },
      "source": [
        "pqcodes = encode(codebook, vectors)\n",
        "distances = search(codebook,pqcodes, query, clusters=5)"
      ],
      "execution_count": null,
      "outputs": []
    },
    {
      "cell_type": "code",
      "metadata": {
        "id": "m8WVNe2pTgOV"
      },
      "source": [
        "nn = vectors[np.argmin(distances)]"
      ],
      "execution_count": null,
      "outputs": []
    },
    {
      "cell_type": "code",
      "metadata": {
        "colab": {
          "base_uri": "https://localhost:8080/",
          "height": 282
        },
        "id": "4jxGPNMUTbG6",
        "outputId": "3278eebb-5729-4247-9d95-89b840788779"
      },
      "source": [
        "from scipy.spatial import Voronoi, voronoi_plot_2d\n",
        "plt.scatter(query_x, query_y, color='r', s=80)\n",
        "plt.scatter(x, y, alpha=0.8, c='g')\n",
        "plt.scatter(nn[0], nn[1], color='b', s=80)\n"
      ],
      "execution_count": null,
      "outputs": [
        {
          "output_type": "execute_result",
          "data": {
            "text/plain": [
              "<matplotlib.collections.PathCollection at 0x7f1115833290>"
            ]
          },
          "metadata": {},
          "execution_count": 259
        },
        {
          "output_type": "display_data",
          "data": {
            "image/png": "[encoded data removed]",
            "text/plain": [
              "<Figure size 432x288 with 1 Axes>"
            ]
          },
          "metadata": {
            "needs_background": "light"
          }
        }
      ]
    },
    {
      "cell_type": "code",
      "metadata": {
        "id": "c4iICEJzT6XS"
      },
      "source": [
        ""
      ],
      "execution_count": null,
      "outputs": []
    }
  ]
}